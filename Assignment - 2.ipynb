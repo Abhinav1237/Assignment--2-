{
 "cells": [
  {
   "cell_type": "markdown",
   "id": "fd1f65a4",
   "metadata": {},
   "source": [
    "## Knowing the department by the last three digits of roll number\n",
    "* if it ends with '01' - CSE DEPARTMENT\n",
    "* elif ends with '11' - IT DEPARTMENT \n",
    "* elif ends with '21' - ECE DEPARTMENT\n",
    "* else - Student doesn't belong to SRM"
   ]
  },
  {
   "cell_type": "code",
   "execution_count": 1,
   "id": "2c3bfbda",
   "metadata": {},
   "outputs": [
    {
     "name": "stdout",
     "output_type": "stream",
     "text": [
      "enter your roll number: AP19110010090\n",
      "student doesnt belong toSRM\n"
     ]
    }
   ],
   "source": [
    "string1 = input(\"enter your roll number: \")\n",
    "if string1[-3:].startswith('01'):\n",
    "    print(\"CSE DEPARTMENT\")\n",
    "elif string1[-3:].startswith('11'):\n",
    "    print(\"IT DEPARTMENT\")\n",
    "elif string1[-3:].startswith('21'):\n",
    "    print(\"ECE DEPARTMENT\")\n",
    "else:\n",
    "    print(\"student doesnt belong toSRM\")\n"
   ]
  },
  {
   "cell_type": "code",
   "execution_count": 3,
   "id": "1e89a7c2",
   "metadata": {},
   "outputs": [
    {
     "name": "stdout",
     "output_type": "stream",
     "text": [
      "enter your roll number: AP19110010011\n",
      "CSE DEPARTMENT\n"
     ]
    }
   ],
   "source": [
    "string1 = input(\"enter your roll number: \")\n",
    "if string1[-3:].startswith('01'):\n",
    "    print(\"CSE DEPARTMENT\")\n",
    "elif string1[-3:].startswith('11'):\n",
    "    print(\"IT DEPARTMENT\")\n",
    "elif string1[-3:].startswith('21'):\n",
    "    print(\"ECE DEPARTMENT\")\n",
    "else:\n",
    "    print(\"student doesnt belong toSRM\")\n"
   ]
  },
  {
   "cell_type": "code",
   "execution_count": 4,
   "id": "ed6f199e",
   "metadata": {},
   "outputs": [
    {
     "name": "stdout",
     "output_type": "stream",
     "text": [
      "enter your roll number: AP19110010112\n",
      "IT DEPARTMENT\n"
     ]
    }
   ],
   "source": [
    "string1 = input(\"enter your roll number: \")\n",
    "if string1[-3:].startswith('01'):\n",
    "    print(\"CSE DEPARTMENT\")\n",
    "elif string1[-3:].startswith('11'):\n",
    "    print(\"IT DEPARTMENT\")\n",
    "elif string1[-3:].startswith('21'):\n",
    "    print(\"ECE DEPARTMENT\")\n",
    "else:\n",
    "    print(\"student doesnt belong toSRM\")\n"
   ]
  },
  {
   "cell_type": "code",
   "execution_count": 5,
   "id": "a168ce70",
   "metadata": {},
   "outputs": [
    {
     "name": "stdout",
     "output_type": "stream",
     "text": [
      "enter your roll number: AP19110010215\n",
      "ECE DEPARTMENT\n"
     ]
    }
   ],
   "source": [
    "string1 = input(\"enter your roll number: \")\n",
    "if string1[-3:].startswith('01'):\n",
    "    print(\"CSE DEPARTMENT\")\n",
    "elif string1[-3:].startswith('11'):\n",
    "    print(\"IT DEPARTMENT\")\n",
    "elif string1[-3:].startswith('21'):\n",
    "    print(\"ECE DEPARTMENT\")\n",
    "else:\n",
    "    print(\"student doesnt belong toSRM\")\n"
   ]
  },
  {
   "cell_type": "code",
   "execution_count": null,
   "id": "e3165ce6",
   "metadata": {},
   "outputs": [],
   "source": []
  }
 ],
 "metadata": {
  "kernelspec": {
   "display_name": "Python 3",
   "language": "python",
   "name": "python3"
  },
  "language_info": {
   "codemirror_mode": {
    "name": "ipython",
    "version": 3
   },
   "file_extension": ".py",
   "mimetype": "text/x-python",
   "name": "python",
   "nbconvert_exporter": "python",
   "pygments_lexer": "ipython3",
   "version": "3.8.8"
  }
 },
 "nbformat": 4,
 "nbformat_minor": 5
}
